{
 "cells": [
  {
   "cell_type": "markdown",
   "metadata": {},
   "source": [
    "# Data preparation\n",
    "* Replaced Object data types with boolean values as they were like boolean types.\n",
    "* Removed columns having codes i.e. 'propertyzoningdesc','propertycountylandusecode'and transaction date.\n",
    "* Replaced null values with median.\n",
    "\n",
    "NOTE: You don't need to fill NA values in sample_submission.csv"
   ]
  },
  {
   "cell_type": "code",
   "execution_count": 1,
   "metadata": {
    "collapsed": false
   },
   "outputs": [
    {
     "name": "stderr",
     "output_type": "stream",
     "text": [
      "C:\\Users\\dexter\\Anaconda3\\lib\\site-packages\\IPython\\core\\interactiveshell.py:2717: DtypeWarning: Columns (22,32,34,49,55) have mixed types. Specify dtype option on import or set low_memory=False.\n",
      "  interactivity=interactivity, compiler=compiler, result=result)\n"
     ]
    },
    {
     "name": "stdout",
     "output_type": "stream",
     "text": [
      "(90275, 3)\n",
      "(2985217, 58)\n",
      "(90275, 53) (90275,)\n"
     ]
    },
    {
     "name": "stderr",
     "output_type": "stream",
     "text": [
      "C:\\Users\\dexter\\Anaconda3\\lib\\site-packages\\ipykernel\\__main__.py:48: SettingWithCopyWarning: \n",
      "A value is trying to be set on a copy of a slice from a DataFrame.\n",
      "Try using .loc[row_indexer,col_indexer] = value instead\n",
      "\n",
      "See the caveats in the documentation: http://pandas.pydata.org/pandas-docs/stable/indexing.html#indexing-view-versus-copy\n",
      "C:\\Users\\dexter\\Anaconda3\\lib\\site-packages\\pandas\\core\\generic.py:3660: SettingWithCopyWarning: \n",
      "A value is trying to be set on a copy of a slice from a DataFrame\n",
      "\n",
      "See the caveats in the documentation: http://pandas.pydata.org/pandas-docs/stable/indexing.html#indexing-view-versus-copy\n",
      "  self._update_inplace(new_data)\n",
      "C:\\Users\\dexter\\Anaconda3\\lib\\site-packages\\ipykernel\\__main__.py:55: SettingWithCopyWarning: \n",
      "A value is trying to be set on a copy of a slice from a DataFrame.\n",
      "Try using .loc[row_indexer,col_indexer] = value instead\n",
      "\n",
      "See the caveats in the documentation: http://pandas.pydata.org/pandas-docs/stable/indexing.html#indexing-view-versus-copy\n"
     ]
    }
   ],
   "source": [
    "import pandas as pd\n",
    "import numpy as np\n",
    "from sklearn.metrics import mean_squared_error\n",
    "import matplotlib.pyplot as plt\n",
    "import gc\n",
    "\n",
    "properties = pd.read_csv('properties_2016.csv')\n",
    "train = pd.read_csv('train_2016_v2.csv')\n",
    "print(train.shape)\n",
    "print(properties.shape)\n",
    "\n",
    "train = pd.merge(train, properties, on='parcelid', how='left')\n",
    "\n",
    "# Convert object types to boolean as all object types are boolean types of values\n",
    "#print(train.dtypes)\n",
    "#print('propertycountylandusecode', train['propertycountylandusecode'].value_counts()) # 75 codes\n",
    "#print('propertyzoningdesc', train['propertyzoningdesc'].value_counts()) # 1907 codes\n",
    "#print('hashottuborspa', train['hashottuborspa'].value_counts()) # True False\n",
    "#print('fireplaceflag', train['fireplaceflag'].value_counts()) # True False\n",
    "#print('taxdelinquencyflag', train['taxdelinquencyflag'].value_counts()) #Y N \n",
    "for c in train.dtypes[train.dtypes == object].index.values:\n",
    "    train[c] = (train[c] == True)\n",
    "    \n",
    "# Fill missing values with median or mean?????\n",
    "median_values = train.mean(axis=0)\n",
    "train.fillna(median_values, inplace=True)\n",
    "\n",
    "# Convert datatype to float32 to accept in Kaggle\n",
    "for c, dtype in zip(train.columns, train.dtypes):\n",
    "    if dtype == np.float64:\n",
    "        train[c] = train[c].astype(np.float32)\n",
    "        \n",
    "# Remove codes columns\n",
    "x = train.drop(['parcelid', 'logerror', 'transactiondate', 'propertyzoningdesc', \n",
    "                         'propertycountylandusecode',  'fireplacecnt', 'fireplaceflag'], axis=1)\n",
    "y = train['logerror'].values\n",
    "print(x.shape, y.shape)\n",
    "train_columns = x.columns\n",
    "x = x.as_matrix()\n",
    "\n",
    "# Sample submission data preperation\n",
    "sample = pd.read_csv('sample_submission.csv')\n",
    "#sample['parcelid'] = sample['ParcelId']\n",
    "df_test = pd.merge(sample, properties, left_on='ParcelId', right_on='parcelid')\n",
    "\n",
    "xtest = df_test[train_columns]\n",
    "for c in xtest.dtypes[xtest.dtypes == object].index.values:\n",
    "    xtest[c] = (xtest[c] == True)\n",
    "\n",
    "xtest = xtest.fillna(xtest.mean(axis=0), inplace=True)\n",
    "\n",
    "# Convert datatype to float32 to accept in Kaggle\n",
    "for c, dtype in zip(xtest.columns, xtest.dtypes):\n",
    "    if dtype == np.float64:\n",
    "        xtest[c] = xtest[c].astype(np.float32)\n",
    "xtest = xtest.as_matrix()"
   ]
  },
  {
   "cell_type": "markdown",
   "metadata": {},
   "source": [
    "# Comparision of different regression methods.\n",
    "* Linear Regression\n",
    "* Lasso \n",
    "* Ridge regression\n",
    "* ElasticNet\n",
    "* Randomized Lasso\n",
    "* XGB Regressor - (It is Tree based)\n",
    "* Random Forest Regressor - (Type of Decision Tree)\n",
    "* Stochaistic Gradient Descent\n",
    "\n",
    "We see that linear models such as linear regression, lasso, ridge don't perform well. This makes sense because there is no linear dependency of the logerror from any feature.\n",
    "We see that XGB Regressor performs the best. It has least RMSE values and 10-fold cross-validation.\n",
    "\n",
    "**ElasticNet** is a linear regression model that combines L1 with L2 regularization. This combination allows for learning a sparse model where few of the weights are non-zero like Lasso, while still maintaining the regularization properties of Ridge. ElasticNet is useful when there are multiple features correlated with one another\n",
    "\n",
    "**Something is going wrong with R2 values... Check later**"
   ]
  },
  {
   "cell_type": "code",
   "execution_count": 2,
   "metadata": {
    "collapsed": false
   },
   "outputs": [
    {
     "name": "stderr",
     "output_type": "stream",
     "text": [
      "C:\\Users\\dexter\\Anaconda3\\lib\\site-packages\\sklearn\\cross_validation.py:41: DeprecationWarning: This module was deprecated in version 0.18 in favor of the model_selection module into which all the refactored classes and functions are moved. Also note that the interface of the new CV iterators are different from that of this module. This module will be removed in 0.20.\n",
      "  \"This module will be removed in 0.20.\", DeprecationWarning)\n"
     ]
    },
    {
     "name": "stdout",
     "output_type": "stream",
     "text": [
      "Method: linear regression\n",
      "RMSE on training: 0.1613\n",
      "R2 score: 0.0003\n",
      "RMSE on 10-fold CV: 0.1609\n",
      "\n",
      "\n"
     ]
    },
    {
     "name": "stderr",
     "output_type": "stream",
     "text": [
      "C:\\Users\\dexter\\Anaconda3\\lib\\site-packages\\sklearn\\linear_model\\coordinate_descent.py:491: ConvergenceWarning: Objective did not converge. You might want to increase the number of iterations. Fitting data with very small alpha may cause precision problems.\n",
      "  ConvergenceWarning)\n"
     ]
    },
    {
     "name": "stdout",
     "output_type": "stream",
     "text": [
      "Method: lasso\n",
      "RMSE on training: 0.1610\n",
      "R2 score: 0.0033\n",
      "RMSE on 10-fold CV: 0.1608\n",
      "\n",
      "\n",
      "Method: ridge\n",
      "RMSE on training: 0.1613\n",
      "R2 score: 0.0003\n",
      "RMSE on 10-fold CV: 0.1609\n",
      "\n",
      "\n",
      "Method: elastic-net\n",
      "RMSE on training: 0.1610\n",
      "R2 score: 0.0031\n",
      "RMSE on 10-fold CV: 0.1608\n",
      "\n",
      "\n",
      "Method: KNN\n",
      "RMSE on training: 0.1616\n",
      "R2 score: -0.0038\n",
      "RMSE on 10-fold CV: 0.1614\n",
      "\n",
      "\n",
      "Method: randomForest\n",
      "RMSE on training: 0.1619\n",
      "R2 score: -0.0080\n",
      "RMSE on 10-fold CV: 0.1608\n",
      "\n",
      "\n",
      "Method: xgboost\n",
      "RMSE on training: 0.1617\n",
      "R2 score: -0.0046\n",
      "RMSE on 10-fold CV: 0.1608\n",
      "\n",
      "\n"
     ]
    }
   ],
   "source": [
    "from sklearn.cross_validation import KFold\n",
    "from sklearn.linear_model import LinearRegression, Lasso, Ridge, ElasticNet, RandomizedLasso\n",
    "from xgboost import XGBRegressor\n",
    "from sklearn.ensemble import RandomForestRegressor\n",
    "from sklearn.neighbors import KNeighborsRegressor\n",
    "from sklearn.model_selection import train_test_split\n",
    "\n",
    "x_train,x_test,y_train,y_test = train_test_split(x,y,test_size=0.7,random_state=100)\n",
    "a = 0.3\n",
    "for name,met in [\n",
    "        ('linear regression', LinearRegression()),\n",
    "        ('lasso', Lasso(fit_intercept=True, alpha=a)),\n",
    "        ('ridge', Ridge(fit_intercept=True, alpha=a)),\n",
    "        ('elastic-net', ElasticNet(fit_intercept=True, alpha=a)),\n",
    "        ('KNN', KNeighborsRegressor(n_neighbors = 100)),\n",
    "        ('randomForest', RandomForestRegressor(max_depth= 8, n_estimators = 100)), #taking a lot of time.\n",
    "        ('xgboost', XGBRegressor())\n",
    "        ]:\n",
    "    met.fit(x_train,y_train)\n",
    "    # p = np.array([met.predict(xi) for xi in x])\n",
    "    p = met.predict(x_test)\n",
    "    e = p-y_test\n",
    "    total_error = np.dot(e,e)\n",
    "    rmse_train = np.sqrt(total_error/len(p))\n",
    "    \n",
    "    R2score = met.score(x_test,y_test)\n",
    "\n",
    "    kf = KFold(len(x), n_folds=10)\n",
    "    err = 0\n",
    "    for train,test in kf:\n",
    "        met.fit(x[train],y[train])\n",
    "        p = met.predict(x[test])\n",
    "        e = p-y[test]\n",
    "        err += np.dot(e,e)\n",
    "\n",
    "    rmse_10cv = np.sqrt(err/len(x))\n",
    "    print('Method: %s' %name)\n",
    "    print('RMSE on training: %.4f' %rmse_train)\n",
    "    print('R2 score: %.4f' %R2score)\n",
    "    print('RMSE on 10-fold CV: %.4f' %rmse_10cv)\n",
    "    print (\"\\n\")"
   ]
  },
  {
   "cell_type": "markdown",
   "metadata": {},
   "source": [
    "# SGD (Stochaistic Gradient Descent) Regression"
   ]
  },
  {
   "cell_type": "code",
   "execution_count": 10,
   "metadata": {
    "collapsed": false
   },
   "outputs": [
    {
     "name": "stderr",
     "output_type": "stream",
     "text": [
      "C:\\Users\\dexter\\Anaconda3\\lib\\site-packages\\sklearn\\utils\\validation.py:444: DataConversionWarning: Data with input dtype object was converted to float64 by StandardScaler.\n",
      "  warnings.warn(msg, DataConversionWarning)\n",
      "C:\\Users\\dexter\\Anaconda3\\lib\\site-packages\\sklearn\\linear_model\\stochastic_gradient.py:73: DeprecationWarning: n_iter parameter is deprecated in 0.19 and will be removed in 0.21. Use max_iter and tol instead.\n",
      "  DeprecationWarning)\n"
     ]
    },
    {
     "name": "stdout",
     "output_type": "stream",
     "text": [
      "Method: Stochastic Gradient Descent Regression\n",
      "RMSE on training: 0.1613\n",
      "RMSE on 10-fold CV: 34741009230.4219\n"
     ]
    }
   ],
   "source": [
    "# SGD is very senstitive to varying-sized feature values. So, first we need to do feature scaling.\n",
    "\n",
    "from sklearn.preprocessing import StandardScaler\n",
    "from sklearn.linear_model import SGDRegressor\n",
    "\n",
    "scaler = StandardScaler()\n",
    "scaler.fit(x)\n",
    "x_s = scaler.transform(x)\n",
    "\n",
    "sgdreg = SGDRegressor(penalty='l2', alpha=0.15, n_iter=200)\n",
    "\n",
    "# Compute RMSE on training data\n",
    "sgdreg.fit(x_s,y)\n",
    "p = sgdreg.predict(x_s)\n",
    "err = p-y\n",
    "total_error = np.dot(err,err)\n",
    "rmse_train = np.sqrt(total_error/len(p))\n",
    "\n",
    "# Compute RMSE using 10-fold x-validation\n",
    "kf = KFold(len(x), n_folds=10)\n",
    "xval_err = 0\n",
    "for train,test in kf:\n",
    "    scaler = StandardScaler()\n",
    "    scaler.fit(x[train])  # Don't cheat - fit only on training data\n",
    "    xtrain_s = scaler.transform(x[train])\n",
    "    xtest_s = scaler.transform(x[test])  # apply same transformation to test data\n",
    "    sgdreg.fit(xtrain_s,y[train])\n",
    "    p = sgdreg.predict(xtest_s)\n",
    "    e = p-y[test]\n",
    "    xval_err += np.dot(e,e)\n",
    "rmse_10cv = np.sqrt(xval_err/len(x))\n",
    "\n",
    "method_name = 'Stochastic Gradient Descent Regression'\n",
    "print('Method: %s' %method_name)\n",
    "print('RMSE on training: %.4f' %rmse_train)\n",
    "print('RMSE on 10-fold CV: %.4f' %rmse_10cv)"
   ]
  },
  {
   "cell_type": "markdown",
   "metadata": {},
   "source": [
    "# Feature Selection via Randomized Lasso"
   ]
  },
  {
   "cell_type": "code",
   "execution_count": 8,
   "metadata": {
    "collapsed": false
   },
   "outputs": [
    {
     "name": "stderr",
     "output_type": "stream",
     "text": [
      "C:\\Users\\dexter\\Anaconda3\\lib\\site-packages\\sklearn\\utils\\deprecation.py:57: DeprecationWarning: Class RandomizedLasso is deprecated; The class RandomizedLasso is deprecated in 0.19 and will be removed in 0.21.\n",
      "  warnings.warn(msg, category=DeprecationWarning)\n"
     ]
    },
    {
     "name": "stdout",
     "output_type": "stream",
     "text": [
      "[ 0.  0.  0.  0.  0.  0.  0.  0.  0.  0.  0.  0.  0.  0.  0.  0.  0.  0.\n",
      "  0.  0.  0.  0.  0.  0.  0.  0.  0.  0.  0.  0.  0.  0.  0.  0.  0.  0.\n",
      "  0.  0.  0.  0.  0.  0.  0.  0.  0.  0.  0.  0.  0.  0.  0.  0.  0.]\n",
      "finished\n"
     ]
    }
   ],
   "source": [
    "from sklearn.linear_model import RandomizedLasso\n",
    "from sklearn.preprocessing import MinMaxScaler\n",
    "\n",
    "# Define dictionary to store our rankings\n",
    "ranks = {}\n",
    "# Create our function which stores the feature rankings to the ranks dictionary\n",
    "def ranking(ranks, names, order=1):\n",
    "    minmax = MinMaxScaler()\n",
    "    ranks = minmax.fit_transform(order*np.array([ranks]).T).T[0]\n",
    "    ranks = map(lambda x: round(x,2), ranks)\n",
    "    return dict(zip(names, ranks))\n",
    "\n",
    "# Finally let's run our Selection Stability method with Randomized Lasso\n",
    "rlasso = RandomizedLasso(alpha=0.04)\n",
    "rlasso.fit(x, y)\n",
    "print(np.abs(rlasso.scores_))\n",
    "ranks[\"rlasso/Stability\"] = ranking(np.abs(rlasso.scores_), train_columns)\n",
    "print('finished')"
   ]
  },
  {
   "cell_type": "markdown",
   "metadata": {},
   "source": [
    "# Predict SampleSubmission with LinearRegression\n",
    "Linear regression gives a negative R2 score. It means the model fits your data very badly, even a horizontal line does better at the prediction than the model.\n",
    "https://stats.stackexchange.com/questions/183265/what-does-negative-r-squared-mean\n",
    "\n",
    "In other words, the model is working opposite to the given data.\n",
    "<img src=\"R2score.png\">"
   ]
  },
  {
   "cell_type": "code",
   "execution_count": 11,
   "metadata": {
    "collapsed": false
   },
   "outputs": [
    {
     "name": "stdout",
     "output_type": "stream",
     "text": [
      "LinearRegression R2score(percentage of variance from the predictions.): 0.000300770557502\n",
      "The rmse of linear regression prediction is: 0.161259540878\n",
      "Writing csv ...\n"
     ]
    }
   ],
   "source": [
    "from sklearn.model_selection import train_test_split\n",
    "x_train,x_test,y_train,y_test = train_test_split(x,y,test_size=0.7,random_state=100)\n",
    "\n",
    "from sklearn.linear_model import LinearRegression\n",
    "lm= LinearRegression()\n",
    "lm.fit(x_train,y_train)\n",
    "y_pred=lm.predict(x_test)\n",
    "\n",
    "print('LinearRegression R2score(percentage of variance from the predictions.):',lm.score(x_test,y_test))\n",
    "print('The rmse of linear regression prediction is:', mean_squared_error(y_test, y_pred) ** 0.5)\n",
    "\n",
    "del x_train; gc.collect()\n",
    "del x_test; gc.collect()\n",
    "del y_train; gc.collect()\n",
    "del y_test; gc.collect()\n",
    "del y_pred; gc.collect()\n",
    "\n",
    "# Prediction with sampleSubmission data\n",
    "prd = lm.predict(xtest)\n",
    "\n",
    "#sub = pd.read_csv('sample_submission.csv', nrows=20000)\n",
    "sub = pd.read_csv('sample_submission.csv')\n",
    "for c in sub.columns[sub.columns != 'ParcelId']:\n",
    "    sub[c] = prd\n",
    "\n",
    "print('Writing csv ...')\n",
    "sub.to_csv('linear_model.csv', index=False, float_format='%.4f')"
   ]
  },
  {
   "cell_type": "markdown",
   "metadata": {},
   "source": [
    "# Predict SampleSubmission with RandomForestRegressor"
   ]
  },
  {
   "cell_type": "code",
   "execution_count": null,
   "metadata": {
    "collapsed": false
   },
   "outputs": [],
   "source": [
    "from sklearn.model_selection import train_test_split\n",
    "x_train,x_test,y_train,y_test = train_test_split(x,y,test_size=0.7,random_state=100)\n",
    "\n",
    "from sklearn.ensemble import RandomForestRegressor\n",
    "rf = RandomForestRegressor(max_depth= 8, n_estimators = 100)\n",
    "rf.fit(x_train, y_train)\n",
    "y_pred = rf.predict(x_test)\n",
    "\n",
    "print('RandomForest score:',rf.score(x_test,y_test))\n",
    "print('The rmse of randomForest prediction is:', mean_squared_error(y_test, y_pred) ** 0.5)\n",
    "\n",
    "del x_train; gc.collect()\n",
    "del x_test; gc.collect()\n",
    "del y_train; gc.collect()\n",
    "del y_test; gc.collect()\n",
    "\n",
    "# Prediction with sampleSubmission data\n",
    "prd = rf.predict(xtest)\n",
    "\n",
    "sub = pd.read_csv('sample_submission.csv')\n",
    "test_columns = ['201610','201611','201612','201710','201711','201712']\n",
    "for c in test_columns:\n",
    "    sub[c] = prd\n",
    "\n",
    "print('Writing csv ...')\n",
    "sub.to_csv('randomForest_model.csv', index=False, float_format='%.4f')"
   ]
  },
  {
   "cell_type": "markdown",
   "metadata": {},
   "source": [
    "# Feature importance with XGB (Extreme Gradient Boosting)"
   ]
  },
  {
   "cell_type": "code",
   "execution_count": 12,
   "metadata": {
    "collapsed": false
   },
   "outputs": [
    {
     "name": "stdout",
     "output_type": "stream",
     "text": [
      "XGB R2score: -0.00461587284842\n",
      "The rmse of XGBoost prediction is: 0.161655595214\n",
      "XBG best score :  0.0279044850893\n"
     ]
    },
    {
     "data": {
      "image/png": "[encoded data removed]",
      "text/plain": [
       "<matplotlib.figure.Figure at 0x2bac8efa5f8>"
      ]
     },
     "metadata": {},
     "output_type": "display_data"
    }
   ],
   "source": [
    "import operator\n",
    "\n",
    "from sklearn.model_selection import train_test_split\n",
    "x_train,x_test,y_train,y_test = train_test_split(x,y,test_size=0.7,random_state=100)\n",
    "\n",
    "from xgboost import XGBRegressor\n",
    "xgb = XGBRegressor()\n",
    "xgb.fit(x_train, y_train)\n",
    "\n",
    "y_pred = xgb.predict(x_test)\n",
    "\n",
    "print('XGB R2score:',xgb.score(x_test,y_test))\n",
    "print('The rmse of XGBoost prediction is:', mean_squared_error(y_test, y_pred) ** 0.5)\n",
    "print('XBG best score : ', xgb.score(x,y))\n",
    "\n",
    "# Now we will see feature importances\n",
    "impVals = xgb.booster().get_fscore()\n",
    "mapper = {'f{0}'.format(i): v for i, v in enumerate(train_columns)}\n",
    "total = sum(impVals.values())\n",
    "mapped = {mapper[k]: v/total for k, v in impVals.items()}\n",
    "mapped = sorted(mapped.items(), key=operator.itemgetter(1), reverse=True)\n",
    "\n",
    "prop = [val[0] for val in mapped] #list(zip(*mapped))[0]\n",
    "score = [val[1] for val in mapped] #list(zip(*mapped))[1]\n",
    "x_pos = np.arange(len(prop)) \n",
    "   \n",
    "plt.bar(x_pos, score,align='center')\n",
    "plt.xticks(x_pos, prop) \n",
    "plt.xticks(rotation=70)\n",
    "plt.title('XGBoost Feature Importance')\n",
    "plt.xlabel('Relative importance')\n",
    "plt.ylabel('Popularity Score')\n",
    "plt.show()"
   ]
  },
  {
   "cell_type": "markdown",
   "metadata": {},
   "source": [
    "# Feature Importance with LightGBM\n",
    "\n",
    "Getting a quick tree-based feature importance classification. I'm using a LightGBM model shared by another member of the Kaggle community.\n",
    "LightGBM is a gradient boosting framework based on decision tree algorithms that can be used for quick ranking and classification tasks. It was recently open-sourced by Microsoft as part of the DMTK project."
   ]
  },
  {
   "cell_type": "code",
   "execution_count": 13,
   "metadata": {
    "collapsed": false
   },
   "outputs": [
    {
     "name": "stdout",
     "output_type": "stream",
     "text": [
      "Start training...\n"
     ]
    },
    {
     "data": {
      "image/png": "[encoded data removed]",
      "text/plain": [
       "<matplotlib.figure.Figure at 0x2bac9002fd0>"
      ]
     },
     "metadata": {},
     "output_type": "display_data"
    },
    {
     "data": {
      "text/plain": [
       "<matplotlib.figure.Figure at 0x2bac9002eb8>"
      ]
     },
     "metadata": {},
     "output_type": "display_data"
    },
    {
     "name": "stdout",
     "output_type": "stream",
     "text": [
      "Start predicting...\n",
      "The rmse of LightGBM prediction is: 0.16079876701\n"
     ]
    },
    {
     "data": {
      "image/png": "[encoded data removed]",
      "text/plain": [
       "<matplotlib.figure.Figure at 0x2bac902e7f0>"
      ]
     },
     "metadata": {},
     "output_type": "display_data"
    },
    {
     "name": "stdout",
     "output_type": "stream",
     "text": [
      "(2985217, 53)\n",
      "          0\n",
      "0  0.003878\n",
      "1  0.002368\n",
      "2  0.012247\n",
      "3  0.007230\n",
      "4  0.000568\n",
      "Writing csv ...\n"
     ]
    }
   ],
   "source": [
    "from sklearn.model_selection import train_test_split\n",
    "x_train,x_test,y_train,y_test = train_test_split(x,y,test_size=0.7,random_state=100)\n",
    "\n",
    "import lightgbm as lgb\n",
    "\n",
    "# specify your configurations as a dict\n",
    "params = {}\n",
    "params['max_bin'] = 20\n",
    "params['learning_rate'] = 0.0025 # shrinkage_rate\n",
    "params['boosting_type'] = 'gbdt'\n",
    "params['objective'] = 'regression'\n",
    "params['metric'] = 'l1'          # or 'mae'\n",
    "params['sub_feature'] = 0.345    \n",
    "params['bagging_fraction'] = 0.85 # sub_row\n",
    "params['bagging_freq'] = 40\n",
    "params['num_leaves'] = 512        # num_leaf\n",
    "params['min_data'] = 500         # min_data_in_leaf\n",
    "params['min_hessian'] = 0.05     # min_sum_hessian_in_leaf\n",
    "params['verbose'] = 0\n",
    "params['feature_fraction_seed'] = 2\n",
    "params['bagging_seed'] = 3\n",
    "\n",
    "# create dataset for lightgbm\n",
    "lgb_train = lgb.Dataset(x_train, y_train)\n",
    "lgb_eval = lgb.Dataset(x_test, y_test, reference=lgb_train)\n",
    "\n",
    "print('Start training...')\n",
    "#gbm = lgb.train(params,\n",
    "#                lgb_train,\n",
    "#                num_boost_round=20,\n",
    "#                valid_sets=lgb_eval,\n",
    "#                early_stopping_rounds=5)\n",
    "gbm = lgb.train(params, lgb_train, 430)\n",
    "lgb.plot_importance(gbm)\n",
    "plt.figure(figsize=(7,4))\n",
    "plt.show()\n",
    "\n",
    "print('Start predicting...')\n",
    "y_pred = gbm.predict(x_test, num_iteration=gbm.best_iteration)\n",
    "\n",
    "print('The rmse of LightGBM prediction is:', mean_squared_error(y_test, y_pred) ** 0.5)\n",
    "\n",
    "plt.scatter(y_test, y_pred)\n",
    "plt.xlabel('Real values')\n",
    "plt.ylabel('Predicted values')\n",
    "\n",
    "# Add a trend line\n",
    "regression = np.polyfit(y_test, y_pred, 1)\n",
    "x_vals = np.array([-0.15, 0.15])\n",
    "y_vals = regression[0]*x_vals + regression[1]\n",
    "plt.plot(x_vals, y_vals, color='green')\n",
    "\n",
    "plt.show()\n",
    "\n",
    "del x_train; gc.collect()\n",
    "del x_test; gc.collect()\n",
    "del y_train; gc.collect()\n",
    "del y_test; gc.collect()\n",
    "\n",
    "# Prediction with sampleSubmission data\n",
    "print(pd.DataFrame(xtest).shape)\n",
    "lgb_train = lgb.Dataset(x, y)\n",
    "gbm = lgb.train(params, lgb_train, 430)\n",
    "prd = gbm.predict(xtest)\n",
    "print(pd.DataFrame(prd).head())\n",
    "\n",
    "sub = pd.read_csv('sample_submission.csv')\n",
    "test_columns = ['201610','201611','201612','201710','201711','201712']\n",
    "for c in test_columns:\n",
    "    sub[c] = prd\n",
    "\n",
    "print('Writing csv ...')\n",
    "sub.to_csv('lightGBM_model.csv', index=False, float_format='%.4f')"
   ]
  },
  {
   "cell_type": "markdown",
   "metadata": {},
   "source": [
    "# Cutting out outliers\n",
    "Apparently there are houses in the dataset for which Zillow’s algorithm made large errors. Normally one might think that the outliers are the most interesting to look at, because that’s where there is a lot of room for improvement. However, for our current purposes this may not be the case, because\n",
    "\n",
    "1) the error may be large simply because the price of the house is high;\n",
    "\n",
    "2) for high-value houses, not much data is available, so we may not be able to learn much;\n",
    "\n",
    "3) the market for high-value houses is small, so that prices are dependent on the tastes and funds of available buyers, leading to unpredictable variance.\n",
    "\n",
    "Of course the above may or may not be the real underlying reason for the outliers, but it suggests that it may be worth trying to remove the outliers from the training set, because they may not contain much generalizable information."
   ]
  },
  {
   "cell_type": "code",
   "execution_count": 14,
   "metadata": {
    "collapsed": false
   },
   "outputs": [
    {
     "name": "stdout",
     "output_type": "stream",
     "text": [
      "[ 0.0276     -0.1684     -0.004      ..., -0.26789999  0.0602      0.42070001]\n"
     ]
    },
    {
     "data": {
      "image/png": "[encoded data removed]",
      "text/plain": [
       "<matplotlib.figure.Figure at 0x2bac826f978>"
      ]
     },
     "metadata": {},
     "output_type": "display_data"
    }
   ],
   "source": [
    "print(y)\n",
    "plt.boxplot(y)\n",
    "plt.ylabel('logerror')\n",
    "plt.show()"
   ]
  },
  {
   "cell_type": "code",
   "execution_count": 15,
   "metadata": {
    "collapsed": false
   },
   "outputs": [
    {
     "name": "stdout",
     "output_type": "stream",
     "text": [
      "Before removing outliers (90275, 53)\n",
      "(90275,)\n",
      "After  removing outliers (79697, 53)\n",
      "(79697,)\n"
     ]
    }
   ],
   "source": [
    "# Quick function to find outliers. A data point in a series is considered\n",
    "# an outlier if it is more than the inter-quartile range (IQR), multiplied\n",
    "# by some factor, away from the first or third quartile.\n",
    "def getIQROutlierBool(series, factor):\n",
    "    q1 = series.quantile(0.25) # First quartile\n",
    "    q3 = series.quantile(0.75) # Third quartile\n",
    "    \n",
    "    # Generate a boolean series indicating whether or not the data point is\n",
    "    # within the specified range\n",
    "    iqr = (series > q1-factor*(q3-q1)) & (series < q3+factor*(q3-q1))\n",
    "    return iqr\n",
    "\n",
    "yPrime = pd.Series(y)\n",
    "\n",
    "# Apply the filter to our logerror values\n",
    "outlier_filter = getIQROutlierBool(yPrime, 1.5)\n",
    "\n",
    "# Cut out the outliers from the training set\n",
    "xClean = x[outlier_filter]\n",
    "yClean = y[outlier_filter]\n",
    "print('Before removing outliers', x.shape)\n",
    "print(y.shape)\n",
    "print('After  removing outliers', xClean.shape)\n",
    "print(yClean.shape)"
   ]
  },
  {
   "cell_type": "markdown",
   "metadata": {},
   "source": [
    "# XGB boost after removing outliers"
   ]
  },
  {
   "cell_type": "code",
   "execution_count": 16,
   "metadata": {
    "collapsed": false
   },
   "outputs": [
    {
     "name": "stdout",
     "output_type": "stream",
     "text": [
      "XGB R2score: 0.0214516429197\n",
      "The rmse of XGBoost prediction is: 0.0462556618893\n"
     ]
    }
   ],
   "source": [
    "import operator\n",
    "\n",
    "from sklearn.model_selection import train_test_split\n",
    "x_train,x_test,y_train,y_test = train_test_split(xClean,yClean,test_size=0.7,random_state=100)\n",
    "\n",
    "from xgboost import XGBRegressor\n",
    "xgb = XGBRegressor()\n",
    "xgb.fit(x_train, y_train)\n",
    "\n",
    "y_pred = xgb.predict(x_test)\n",
    "\n",
    "print('XGB R2score:',xgb.score(x_test,y_test))\n",
    "print('The rmse of XGBoost prediction is:', mean_squared_error(y_test, y_pred) ** 0.5)"
   ]
  },
  {
   "cell_type": "code",
   "execution_count": null,
   "metadata": {
    "collapsed": true
   },
   "outputs": [],
   "source": []
  }
 ],
 "metadata": {
  "kernelspec": {
   "display_name": "Python 3",
   "language": "python",
   "name": "python3"
  },
  "language_info": {
   "codemirror_mode": {
    "name": "ipython",
    "version": 3
   },
   "file_extension": ".py",
   "mimetype": "text/x-python",
   "name": "python",
   "nbconvert_exporter": "python",
   "pygments_lexer": "ipython3",
   "version": "3.6.0"
  }
 },
 "nbformat": 4,
 "nbformat_minor": 2
}
